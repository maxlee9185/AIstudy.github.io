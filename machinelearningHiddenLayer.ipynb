{
  "nbformat": 4,
  "nbformat_minor": 0,
  "metadata": {
    "colab": {
      "name": "machinelearningHiddenLayer.ipynb",
      "provenance": [],
      "authorship_tag": "ABX9TyOD9anEFHVZKWCDztz1ospI",
      "include_colab_link": true
    },
    "kernelspec": {
      "name": "python3",
      "display_name": "Python 3"
    }
  },
  "cells": [
    {
      "cell_type": "markdown",
      "metadata": {
        "id": "view-in-github",
        "colab_type": "text"
      },
      "source": [
        "<a href=\"https://colab.research.google.com/github/maxlee9185/AIstudy.github.io/blob/master/machinelearningHiddenLayer.ipynb\" target=\"_parent\"><img src=\"https://colab.research.google.com/assets/colab-badge.svg\" alt=\"Open In Colab\"/></a>"
      ]
    },
    {
      "cell_type": "code",
      "metadata": {
        "id": "mBdwBeB5A-ht",
        "colab_type": "code",
        "colab": {
          "base_uri": "https://localhost:8080/",
          "height": 34
        },
        "outputId": "b675e6a3-1864-44fa-bc80-290dcec62d72"
      },
      "source": [
        "import tensorflow as tf\n",
        "import pandas as pd\n",
        "\n",
        "\n",
        "#보스턴 집값예측\n",
        "#과거의 데이터 준비 (보스턴)\n",
        "파일경로='https://raw.githubusercontent.com/blackdew/tensorflow1/master/csv/boston.csv'\n",
        "보스턴 = pd.read_csv(파일경로)\n",
        "# 종속변수, 독립변수\n",
        "독립 = 보스턴[['crim', 'zn', 'indus', 'chas', 'nox','rm', 'age', 'dis', 'rad', 'tax',\n",
        "            'ptratio', 'b', 'lstat']]\n",
        "종속 = 보스턴[['medv']]\n",
        "print(독립.shape, 종속.shape)"
      ],
      "execution_count": 1,
      "outputs": [
        {
          "output_type": "stream",
          "text": [
            "(506, 13) (506, 1)\n"
          ],
          "name": "stdout"
        }
      ]
    },
    {
      "cell_type": "code",
      "metadata": {
        "id": "1C05vjrUCAPb",
        "colab_type": "code",
        "colab": {
          "base_uri": "https://localhost:8080/",
          "height": 1000
        },
        "outputId": "f11c074f-9a73-4021-b8cc-1c2205038138"
      },
      "source": [
        "# 모델의 구조를 만듭니다\n",
        "X = tf.keras.layers.Input(shape=[13])\n",
        "H = tf.keras.layers.Dense(10, activation='swish')(X)\n",
        "Y = tf.keras.layers.Dense(1)(H)\n",
        "model = tf.keras.models.Model(X, Y)\n",
        "model.compile(loss='mse')\n",
        "\n",
        "# 데이터로 모델을 학습(fit)시킵니다.\n",
        "model.fit(독립,종속,epochs=1000,verbose=0)\n",
        "model.fit(독립,종속,epochs=100)"
      ],
      "execution_count": 7,
      "outputs": [
        {
          "output_type": "stream",
          "text": [
            "Epoch 1/100\n",
            "16/16 [==============================] - 0s 1ms/step - loss: 22.1592\n",
            "Epoch 2/100\n",
            "16/16 [==============================] - 0s 885us/step - loss: 23.2321\n",
            "Epoch 3/100\n",
            "16/16 [==============================] - 0s 857us/step - loss: 23.7673\n",
            "Epoch 4/100\n",
            "16/16 [==============================] - 0s 885us/step - loss: 22.2538\n",
            "Epoch 5/100\n",
            "16/16 [==============================] - 0s 1ms/step - loss: 21.9774\n",
            "Epoch 6/100\n",
            "16/16 [==============================] - 0s 1ms/step - loss: 22.8437\n",
            "Epoch 7/100\n",
            "16/16 [==============================] - 0s 953us/step - loss: 21.5905\n",
            "Epoch 8/100\n",
            "16/16 [==============================] - 0s 1ms/step - loss: 21.7214\n",
            "Epoch 9/100\n",
            "16/16 [==============================] - 0s 897us/step - loss: 24.9548\n",
            "Epoch 10/100\n",
            "16/16 [==============================] - 0s 943us/step - loss: 22.0419\n",
            "Epoch 11/100\n",
            "16/16 [==============================] - 0s 913us/step - loss: 22.7601\n",
            "Epoch 12/100\n",
            "16/16 [==============================] - 0s 1ms/step - loss: 20.7244\n",
            "Epoch 13/100\n",
            "16/16 [==============================] - 0s 904us/step - loss: 22.8736\n",
            "Epoch 14/100\n",
            "16/16 [==============================] - 0s 895us/step - loss: 22.8923\n",
            "Epoch 15/100\n",
            "16/16 [==============================] - 0s 853us/step - loss: 22.5380\n",
            "Epoch 16/100\n",
            "16/16 [==============================] - 0s 851us/step - loss: 22.5795\n",
            "Epoch 17/100\n",
            "16/16 [==============================] - 0s 833us/step - loss: 22.2821\n",
            "Epoch 18/100\n",
            "16/16 [==============================] - 0s 1ms/step - loss: 21.4638\n",
            "Epoch 19/100\n",
            "16/16 [==============================] - 0s 861us/step - loss: 21.9995\n",
            "Epoch 20/100\n",
            "16/16 [==============================] - 0s 896us/step - loss: 23.4371\n",
            "Epoch 21/100\n",
            "16/16 [==============================] - 0s 1ms/step - loss: 21.6435\n",
            "Epoch 22/100\n",
            "16/16 [==============================] - 0s 983us/step - loss: 22.7669\n",
            "Epoch 23/100\n",
            "16/16 [==============================] - 0s 1ms/step - loss: 24.0020\n",
            "Epoch 24/100\n",
            "16/16 [==============================] - 0s 957us/step - loss: 21.8009\n",
            "Epoch 25/100\n",
            "16/16 [==============================] - 0s 988us/step - loss: 23.6766\n",
            "Epoch 26/100\n",
            "16/16 [==============================] - 0s 943us/step - loss: 23.0773\n",
            "Epoch 27/100\n",
            "16/16 [==============================] - 0s 1ms/step - loss: 21.2727\n",
            "Epoch 28/100\n",
            "16/16 [==============================] - 0s 1ms/step - loss: 23.8800\n",
            "Epoch 29/100\n",
            "16/16 [==============================] - 0s 913us/step - loss: 21.5573\n",
            "Epoch 30/100\n",
            "16/16 [==============================] - 0s 906us/step - loss: 19.9890\n",
            "Epoch 31/100\n",
            "16/16 [==============================] - 0s 884us/step - loss: 24.7359\n",
            "Epoch 32/100\n",
            "16/16 [==============================] - 0s 840us/step - loss: 21.5339\n",
            "Epoch 33/100\n",
            "16/16 [==============================] - 0s 862us/step - loss: 22.0560\n",
            "Epoch 34/100\n",
            "16/16 [==============================] - 0s 867us/step - loss: 21.0744\n",
            "Epoch 35/100\n",
            "16/16 [==============================] - 0s 907us/step - loss: 22.5578\n",
            "Epoch 36/100\n",
            "16/16 [==============================] - 0s 847us/step - loss: 22.3238\n",
            "Epoch 37/100\n",
            "16/16 [==============================] - 0s 865us/step - loss: 21.5988\n",
            "Epoch 38/100\n",
            "16/16 [==============================] - 0s 879us/step - loss: 24.5919\n",
            "Epoch 39/100\n",
            "16/16 [==============================] - 0s 1ms/step - loss: 22.5131\n",
            "Epoch 40/100\n",
            "16/16 [==============================] - 0s 1ms/step - loss: 22.8241\n",
            "Epoch 41/100\n",
            "16/16 [==============================] - 0s 1ms/step - loss: 21.4559\n",
            "Epoch 42/100\n",
            "16/16 [==============================] - 0s 1ms/step - loss: 22.5044\n",
            "Epoch 43/100\n",
            "16/16 [==============================] - 0s 964us/step - loss: 22.8189\n",
            "Epoch 44/100\n",
            "16/16 [==============================] - 0s 943us/step - loss: 22.8614\n",
            "Epoch 45/100\n",
            "16/16 [==============================] - 0s 1ms/step - loss: 20.6765\n",
            "Epoch 46/100\n",
            "16/16 [==============================] - 0s 860us/step - loss: 22.4873\n",
            "Epoch 47/100\n",
            "16/16 [==============================] - 0s 873us/step - loss: 23.1918\n",
            "Epoch 48/100\n",
            "16/16 [==============================] - 0s 924us/step - loss: 20.1578\n",
            "Epoch 49/100\n",
            "16/16 [==============================] - 0s 891us/step - loss: 23.6792\n",
            "Epoch 50/100\n",
            "16/16 [==============================] - 0s 926us/step - loss: 21.8540\n",
            "Epoch 51/100\n",
            "16/16 [==============================] - 0s 911us/step - loss: 21.4033\n",
            "Epoch 52/100\n",
            "16/16 [==============================] - 0s 969us/step - loss: 22.6131\n",
            "Epoch 53/100\n",
            "16/16 [==============================] - 0s 976us/step - loss: 21.5914\n",
            "Epoch 54/100\n",
            "16/16 [==============================] - 0s 1ms/step - loss: 22.4150\n",
            "Epoch 55/100\n",
            "16/16 [==============================] - 0s 917us/step - loss: 22.9087\n",
            "Epoch 56/100\n",
            "16/16 [==============================] - 0s 973us/step - loss: 20.6484\n",
            "Epoch 57/100\n",
            "16/16 [==============================] - 0s 909us/step - loss: 24.2982\n",
            "Epoch 58/100\n",
            "16/16 [==============================] - 0s 899us/step - loss: 22.4564\n",
            "Epoch 59/100\n",
            "16/16 [==============================] - 0s 927us/step - loss: 21.5722\n",
            "Epoch 60/100\n",
            "16/16 [==============================] - 0s 888us/step - loss: 21.1955\n",
            "Epoch 61/100\n",
            "16/16 [==============================] - 0s 886us/step - loss: 24.3689\n",
            "Epoch 62/100\n",
            "16/16 [==============================] - 0s 951us/step - loss: 21.9664\n",
            "Epoch 63/100\n",
            "16/16 [==============================] - 0s 836us/step - loss: 21.3165\n",
            "Epoch 64/100\n",
            "16/16 [==============================] - 0s 898us/step - loss: 21.1310\n",
            "Epoch 65/100\n",
            "16/16 [==============================] - 0s 925us/step - loss: 24.1526\n",
            "Epoch 66/100\n",
            "16/16 [==============================] - 0s 994us/step - loss: 21.8843\n",
            "Epoch 67/100\n",
            "16/16 [==============================] - 0s 958us/step - loss: 21.7138\n",
            "Epoch 68/100\n",
            "16/16 [==============================] - 0s 941us/step - loss: 23.0087\n",
            "Epoch 69/100\n",
            "16/16 [==============================] - 0s 1ms/step - loss: 23.5709\n",
            "Epoch 70/100\n",
            "16/16 [==============================] - 0s 972us/step - loss: 21.7405\n",
            "Epoch 71/100\n",
            "16/16 [==============================] - 0s 835us/step - loss: 24.0376\n",
            "Epoch 72/100\n",
            "16/16 [==============================] - 0s 909us/step - loss: 21.4896\n",
            "Epoch 73/100\n",
            "16/16 [==============================] - 0s 1ms/step - loss: 20.7987\n",
            "Epoch 74/100\n",
            "16/16 [==============================] - 0s 872us/step - loss: 23.6093\n",
            "Epoch 75/100\n",
            "16/16 [==============================] - 0s 872us/step - loss: 22.8774\n",
            "Epoch 76/100\n",
            "16/16 [==============================] - 0s 875us/step - loss: 22.1257\n",
            "Epoch 77/100\n",
            "16/16 [==============================] - 0s 866us/step - loss: 20.6689\n",
            "Epoch 78/100\n",
            "16/16 [==============================] - 0s 830us/step - loss: 21.6889\n",
            "Epoch 79/100\n",
            "16/16 [==============================] - 0s 855us/step - loss: 21.9582\n",
            "Epoch 80/100\n",
            "16/16 [==============================] - 0s 833us/step - loss: 21.8937\n",
            "Epoch 81/100\n",
            "16/16 [==============================] - 0s 904us/step - loss: 23.2685\n",
            "Epoch 82/100\n",
            "16/16 [==============================] - 0s 1ms/step - loss: 22.1984\n",
            "Epoch 83/100\n",
            "16/16 [==============================] - 0s 852us/step - loss: 20.3122\n",
            "Epoch 84/100\n",
            "16/16 [==============================] - 0s 845us/step - loss: 22.7733\n",
            "Epoch 85/100\n",
            "16/16 [==============================] - 0s 1ms/step - loss: 22.7233\n",
            "Epoch 86/100\n",
            "16/16 [==============================] - 0s 1ms/step - loss: 23.2027\n",
            "Epoch 87/100\n",
            "16/16 [==============================] - 0s 862us/step - loss: 20.8430\n",
            "Epoch 88/100\n",
            "16/16 [==============================] - 0s 972us/step - loss: 23.0632\n",
            "Epoch 89/100\n",
            "16/16 [==============================] - 0s 976us/step - loss: 21.4561\n",
            "Epoch 90/100\n",
            "16/16 [==============================] - 0s 877us/step - loss: 22.7917\n",
            "Epoch 91/100\n",
            "16/16 [==============================] - 0s 986us/step - loss: 21.1388\n",
            "Epoch 92/100\n",
            "16/16 [==============================] - 0s 877us/step - loss: 22.9980\n",
            "Epoch 93/100\n",
            "16/16 [==============================] - 0s 1ms/step - loss: 20.7436\n",
            "Epoch 94/100\n",
            "16/16 [==============================] - 0s 985us/step - loss: 22.1492\n",
            "Epoch 95/100\n",
            "16/16 [==============================] - 0s 965us/step - loss: 21.7444\n",
            "Epoch 96/100\n",
            "16/16 [==============================] - 0s 1ms/step - loss: 23.0979\n",
            "Epoch 97/100\n",
            "16/16 [==============================] - 0s 934us/step - loss: 21.6348\n",
            "Epoch 98/100\n",
            "16/16 [==============================] - 0s 947us/step - loss: 22.2939\n",
            "Epoch 99/100\n",
            "16/16 [==============================] - 0s 1ms/step - loss: 20.9554\n",
            "Epoch 100/100\n",
            "16/16 [==============================] - 0s 1ms/step - loss: 22.7764\n"
          ],
          "name": "stdout"
        },
        {
          "output_type": "execute_result",
          "data": {
            "text/plain": [
              "<tensorflow.python.keras.callbacks.History at 0x7fda0c68fdd8>"
            ]
          },
          "metadata": {
            "tags": []
          },
          "execution_count": 7
        }
      ]
    },
    {
      "cell_type": "code",
      "metadata": {
        "id": "Y3C9dBXKCzM1",
        "colab_type": "code",
        "colab": {
          "base_uri": "https://localhost:8080/",
          "height": 263
        },
        "outputId": "616d802b-c11b-496e-d17f-487d8e4c969e"
      },
      "source": [
        "#모델이 잘 만들어졌는지 확인\n",
        "model.summary()"
      ],
      "execution_count": 9,
      "outputs": [
        {
          "output_type": "stream",
          "text": [
            "Model: \"functional_11\"\n",
            "_________________________________________________________________\n",
            "Layer (type)                 Output Shape              Param #   \n",
            "=================================================================\n",
            "input_6 (InputLayer)         [(None, 13)]              0         \n",
            "_________________________________________________________________\n",
            "dense_10 (Dense)             (None, 10)                140       \n",
            "_________________________________________________________________\n",
            "dense_11 (Dense)             (None, 1)                 11        \n",
            "=================================================================\n",
            "Total params: 151\n",
            "Trainable params: 151\n",
            "Non-trainable params: 0\n",
            "_________________________________________________________________\n"
          ],
          "name": "stdout"
        }
      ]
    },
    {
      "cell_type": "code",
      "metadata": {
        "id": "xns6gonBDmv8",
        "colab_type": "code",
        "colab": {
          "base_uri": "https://localhost:8080/",
          "height": 210
        },
        "outputId": "fddd51a8-d24c-45c9-eaf8-2c6ac24e6e45"
      },
      "source": [
        "#모델을 이용하다\n",
        "print(model.predict(독립[:5]))\n",
        "print(종속[:5])"
      ],
      "execution_count": 10,
      "outputs": [
        {
          "output_type": "stream",
          "text": [
            "[[26.87899 ]\n",
            " [22.807373]\n",
            " [28.729527]\n",
            " [29.398666]\n",
            " [29.055668]]\n",
            "   medv\n",
            "0  24.0\n",
            "1  21.6\n",
            "2  34.7\n",
            "3  33.4\n",
            "4  36.2\n"
          ],
          "name": "stdout"
        }
      ]
    },
    {
      "cell_type": "code",
      "metadata": {
        "id": "dkB4yzb_EJyD",
        "colab_type": "code",
        "colab": {}
      },
      "source": [
        "#아이리스 품종분류\n",
        "import tensorflow as tf\n",
        "import pandas as pd\n",
        " \n",
        "\n",
        "# 1.과거의 데이터를 준비합니다.\n",
        "파일경로 = 'https://raw.githubusercontent.com/blackdew/tensorflow1/master/csv/iris.csv'\n",
        "아이리스=pd.read_csv(파일경로)"
      ],
      "execution_count": 11,
      "outputs": []
    },
    {
      "cell_type": "code",
      "metadata": {
        "id": "YQ93XyqgEesl",
        "colab_type": "code",
        "colab": {
          "base_uri": "https://localhost:8080/",
          "height": 70
        },
        "outputId": "428fb39a-9524-46ff-89ce-4acb54519ee3"
      },
      "source": [
        "#원핫인코딩\n",
        "아이리스=pd.get_dummies(아이리스)\n",
        "print(아이리스.columns)"
      ],
      "execution_count": 12,
      "outputs": [
        {
          "output_type": "stream",
          "text": [
            "Index(['꽃잎길이', '꽃잎폭', '꽃받침길이', '꽃받침폭', '품종_setosa', '품종_versicolor',\n",
            "       '품종_virginica'],\n",
            "      dtype='object')\n"
          ],
          "name": "stdout"
        }
      ]
    },
    {
      "cell_type": "code",
      "metadata": {
        "id": "xt5VMLzSEtzl",
        "colab_type": "code",
        "colab": {
          "base_uri": "https://localhost:8080/",
          "height": 34
        },
        "outputId": "1c547b99-71ed-4805-8c84-438319adbc49"
      },
      "source": [
        "#독립, 종속변수\n",
        "독립=아이리스[['꽃잎길이', '꽃잎폭', '꽃받침길이', '꽃받침폭']]\n",
        "종속=아이리스[['품종_setosa', '품종_versicolor','품종_virginica']]\n",
        "print(독립.shape,종속.shape)\n"
      ],
      "execution_count": 13,
      "outputs": [
        {
          "output_type": "stream",
          "text": [
            "(150, 4) (150, 3)\n"
          ],
          "name": "stdout"
        }
      ]
    },
    {
      "cell_type": "code",
      "metadata": {
        "id": "TCgDVB_LFC4e",
        "colab_type": "code",
        "colab": {}
      },
      "source": [
        "#모델만들기\n",
        "X=tf.keras.layers.Input(shape=[4])\n",
        "H=tf.keras.layers.Dense(8,activation='swish')(X)\n",
        "H=tf.keras.layers.Dense(8,activation='swish')(X)\n",
        "H=tf.keras.layers.Dense(8,activation='swish')(X)\n",
        "Y=tf.keras.layers.Dense(3,activation='softmax')(H)\n",
        "model=tf.keras.models.Model(X,Y)\n",
        "model.compile(loss='categorical_crossentropy',metrics='accuracy')"
      ],
      "execution_count": 15,
      "outputs": []
    },
    {
      "cell_type": "code",
      "metadata": {
        "id": "_aywd5J7FoGy",
        "colab_type": "code",
        "colab": {
          "base_uri": "https://localhost:8080/",
          "height": 263
        },
        "outputId": "728647be-9683-4dda-ee8b-517f191f8d63"
      },
      "source": [
        "model.summary()"
      ],
      "execution_count": 16,
      "outputs": [
        {
          "output_type": "stream",
          "text": [
            "Model: \"functional_13\"\n",
            "_________________________________________________________________\n",
            "Layer (type)                 Output Shape              Param #   \n",
            "=================================================================\n",
            "input_8 (InputLayer)         [(None, 4)]               0         \n",
            "_________________________________________________________________\n",
            "dense_18 (Dense)             (None, 8)                 40        \n",
            "_________________________________________________________________\n",
            "dense_19 (Dense)             (None, 3)                 27        \n",
            "=================================================================\n",
            "Total params: 67\n",
            "Trainable params: 67\n",
            "Non-trainable params: 0\n",
            "_________________________________________________________________\n"
          ],
          "name": "stdout"
        }
      ]
    },
    {
      "cell_type": "code",
      "metadata": {
        "id": "wIYcQRV9F1Uw",
        "colab_type": "code",
        "colab": {}
      },
      "source": [
        "model.fit(독립,종속,epochs=100)"
      ],
      "execution_count": null,
      "outputs": []
    },
    {
      "cell_type": "code",
      "metadata": {
        "id": "nQfAWLPJF6ul",
        "colab_type": "code",
        "colab": {
          "base_uri": "https://localhost:8080/",
          "height": 210
        },
        "outputId": "3d59f39e-453c-4da6-c050-8ee045467933"
      },
      "source": [
        "print(model.predict(독립[:5]))\n",
        "print(종속[:5])"
      ],
      "execution_count": 18,
      "outputs": [
        {
          "output_type": "stream",
          "text": [
            "[[1.0000000e+00 1.2770713e-12 2.0569612e-11]\n",
            " [1.0000000e+00 1.3882179e-10 4.7862492e-10]\n",
            " [1.0000000e+00 1.2064790e-11 1.2635962e-10]\n",
            " [1.0000000e+00 1.0163768e-09 1.5826580e-09]\n",
            " [1.0000000e+00 8.5366138e-13 1.6289881e-11]]\n",
            "   품종_setosa  품종_versicolor  품종_virginica\n",
            "0          1              0             0\n",
            "1          1              0             0\n",
            "2          1              0             0\n",
            "3          1              0             0\n",
            "4          1              0             0\n"
          ],
          "name": "stdout"
        }
      ]
    },
    {
      "cell_type": "code",
      "metadata": {
        "id": "Z_w_dq_XGHYj",
        "colab_type": "code",
        "colab": {}
      },
      "source": [
        ""
      ],
      "execution_count": null,
      "outputs": []
    }
  ]
}