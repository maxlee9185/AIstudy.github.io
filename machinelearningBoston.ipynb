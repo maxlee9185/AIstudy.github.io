{
  "nbformat": 4,
  "nbformat_minor": 0,
  "metadata": {
    "colab": {
      "name": "machinelearningBoston.ipynb",
      "provenance": [],
      "authorship_tag": "ABX9TyPHbfH9SWdv0Pl4Y6nJaeL+",
      "include_colab_link": true
    },
    "kernelspec": {
      "name": "python3",
      "display_name": "Python 3"
    }
  },
  "cells": [
    {
      "cell_type": "markdown",
      "metadata": {
        "id": "view-in-github",
        "colab_type": "text"
      },
      "source": [
        "<a href=\"https://colab.research.google.com/github/maxlee9185/AIstudy.github.io/blob/master/machinelearningBoston.ipynb\" target=\"_parent\"><img src=\"https://colab.research.google.com/assets/colab-badge.svg\" alt=\"Open In Colab\"/></a>"
      ]
    },
    {
      "cell_type": "code",
      "metadata": {
        "id": "rHsT0iSt0EAc",
        "colab_type": "code",
        "colab": {
          "base_uri": "https://localhost:8080/",
          "height": 268
        },
        "outputId": "9e5bd8f0-16ff-43aa-e5b1-f81676913251"
      },
      "source": [
        "import tensorflow as tf\n",
        "import pandas as pd\n",
        "\n",
        "# 1.과거의 데이터를 준비합니다.\n",
        "파일경로 = 'https://raw.githubusercontent.com/blackdew/tensorflow1/master/csv/boston.csv'\n",
        "보스턴=pd.read_csv(파일경로) #파일 읽어들이는 함수\n",
        "print(보스턴.columns)\n",
        "보스턴.head()"
      ],
      "execution_count": null,
      "outputs": [
        {
          "output_type": "stream",
          "text": [
            "Index(['crim', 'zn', 'indus', 'chas', 'nox', 'rm', 'age', 'dis', 'rad', 'tax',\n",
            "       'ptratio', 'b', 'lstat', 'medv'],\n",
            "      dtype='object')\n"
          ],
          "name": "stdout"
        },
        {
          "output_type": "execute_result",
          "data": {
            "text/html": [
              "<div>\n",
              "<style scoped>\n",
              "    .dataframe tbody tr th:only-of-type {\n",
              "        vertical-align: middle;\n",
              "    }\n",
              "\n",
              "    .dataframe tbody tr th {\n",
              "        vertical-align: top;\n",
              "    }\n",
              "\n",
              "    .dataframe thead th {\n",
              "        text-align: right;\n",
              "    }\n",
              "</style>\n",
              "<table border=\"1\" class=\"dataframe\">\n",
              "  <thead>\n",
              "    <tr style=\"text-align: right;\">\n",
              "      <th></th>\n",
              "      <th>crim</th>\n",
              "      <th>zn</th>\n",
              "      <th>indus</th>\n",
              "      <th>chas</th>\n",
              "      <th>nox</th>\n",
              "      <th>rm</th>\n",
              "      <th>age</th>\n",
              "      <th>dis</th>\n",
              "      <th>rad</th>\n",
              "      <th>tax</th>\n",
              "      <th>ptratio</th>\n",
              "      <th>b</th>\n",
              "      <th>lstat</th>\n",
              "      <th>medv</th>\n",
              "    </tr>\n",
              "  </thead>\n",
              "  <tbody>\n",
              "    <tr>\n",
              "      <th>0</th>\n",
              "      <td>0.00632</td>\n",
              "      <td>18.0</td>\n",
              "      <td>2.31</td>\n",
              "      <td>0</td>\n",
              "      <td>0.538</td>\n",
              "      <td>6.575</td>\n",
              "      <td>65.2</td>\n",
              "      <td>4.0900</td>\n",
              "      <td>1</td>\n",
              "      <td>296</td>\n",
              "      <td>15.3</td>\n",
              "      <td>396.90</td>\n",
              "      <td>4.98</td>\n",
              "      <td>24.0</td>\n",
              "    </tr>\n",
              "    <tr>\n",
              "      <th>1</th>\n",
              "      <td>0.02731</td>\n",
              "      <td>0.0</td>\n",
              "      <td>7.07</td>\n",
              "      <td>0</td>\n",
              "      <td>0.469</td>\n",
              "      <td>6.421</td>\n",
              "      <td>78.9</td>\n",
              "      <td>4.9671</td>\n",
              "      <td>2</td>\n",
              "      <td>242</td>\n",
              "      <td>17.8</td>\n",
              "      <td>396.90</td>\n",
              "      <td>9.14</td>\n",
              "      <td>21.6</td>\n",
              "    </tr>\n",
              "    <tr>\n",
              "      <th>2</th>\n",
              "      <td>0.02729</td>\n",
              "      <td>0.0</td>\n",
              "      <td>7.07</td>\n",
              "      <td>0</td>\n",
              "      <td>0.469</td>\n",
              "      <td>7.185</td>\n",
              "      <td>61.1</td>\n",
              "      <td>4.9671</td>\n",
              "      <td>2</td>\n",
              "      <td>242</td>\n",
              "      <td>17.8</td>\n",
              "      <td>392.83</td>\n",
              "      <td>4.03</td>\n",
              "      <td>34.7</td>\n",
              "    </tr>\n",
              "    <tr>\n",
              "      <th>3</th>\n",
              "      <td>0.03237</td>\n",
              "      <td>0.0</td>\n",
              "      <td>2.18</td>\n",
              "      <td>0</td>\n",
              "      <td>0.458</td>\n",
              "      <td>6.998</td>\n",
              "      <td>45.8</td>\n",
              "      <td>6.0622</td>\n",
              "      <td>3</td>\n",
              "      <td>222</td>\n",
              "      <td>18.7</td>\n",
              "      <td>394.63</td>\n",
              "      <td>2.94</td>\n",
              "      <td>33.4</td>\n",
              "    </tr>\n",
              "    <tr>\n",
              "      <th>4</th>\n",
              "      <td>0.06905</td>\n",
              "      <td>0.0</td>\n",
              "      <td>2.18</td>\n",
              "      <td>0</td>\n",
              "      <td>0.458</td>\n",
              "      <td>7.147</td>\n",
              "      <td>54.2</td>\n",
              "      <td>6.0622</td>\n",
              "      <td>3</td>\n",
              "      <td>222</td>\n",
              "      <td>18.7</td>\n",
              "      <td>396.90</td>\n",
              "      <td>5.33</td>\n",
              "      <td>36.2</td>\n",
              "    </tr>\n",
              "  </tbody>\n",
              "</table>\n",
              "</div>"
            ],
            "text/plain": [
              "      crim    zn  indus  chas    nox  ...  tax  ptratio       b  lstat  medv\n",
              "0  0.00632  18.0   2.31     0  0.538  ...  296     15.3  396.90   4.98  24.0\n",
              "1  0.02731   0.0   7.07     0  0.469  ...  242     17.8  396.90   9.14  21.6\n",
              "2  0.02729   0.0   7.07     0  0.469  ...  242     17.8  392.83   4.03  34.7\n",
              "3  0.03237   0.0   2.18     0  0.458  ...  222     18.7  394.63   2.94  33.4\n",
              "4  0.06905   0.0   2.18     0  0.458  ...  222     18.7  396.90   5.33  36.2\n",
              "\n",
              "[5 rows x 14 columns]"
            ]
          },
          "metadata": {
            "tags": []
          },
          "execution_count": 1
        }
      ]
    },
    {
      "cell_type": "code",
      "metadata": {
        "id": "MuxThsvg2fkL",
        "colab_type": "code",
        "colab": {
          "base_uri": "https://localhost:8080/",
          "height": 34
        },
        "outputId": "f81cb0f4-79c7-4820-91cc-d4330e881f69"
      },
      "source": [
        "# 독립변수, 종속변수 분리\n",
        "독립 = 보스턴[['crim', 'zn', 'indus', 'chas', 'nox', 'rm', 'age', 'dis', 'rad', 'tax',\n",
        "       'ptratio', 'b', 'lstat']]\n",
        "종속 = 보스턴[['medv']]\n",
        "print(독립.shape,종속.shape)\n"
      ],
      "execution_count": null,
      "outputs": [
        {
          "output_type": "stream",
          "text": [
            "(506, 13) (506, 1)\n"
          ],
          "name": "stdout"
        }
      ]
    },
    {
      "cell_type": "code",
      "metadata": {
        "id": "U1rwTZ743HVh",
        "colab_type": "code",
        "colab": {}
      },
      "source": [
        "#모델구조 만들기\n",
        "X=tf.keras.layers.Input(shape=[13])\n",
        "Y=tf.keras.layers.Dense(1)(X)\n",
        "model=tf.keras.models.Model(X,Y)\n",
        "model.compile(loss='mse')"
      ],
      "execution_count": null,
      "outputs": []
    },
    {
      "cell_type": "code",
      "metadata": {
        "id": "1GdwXE1Z3gTL",
        "colab_type": "code",
        "colab": {
          "base_uri": "https://localhost:8080/",
          "height": 1000
        },
        "outputId": "8ea283c8-4b24-4ee3-c71e-9c21f1733cb2"
      },
      "source": [
        "#데이터로 모델 학습(Fit)하기\n",
        "model.fit(독립,종속,epochs=100,verbose=0)\n",
        "model.fit(독립,종속,epochs=100)"
      ],
      "execution_count": null,
      "outputs": [
        {
          "output_type": "stream",
          "text": [
            "Epoch 1/100\n",
            "16/16 [==============================] - 0s 1ms/step - loss: 25.6013\n",
            "Epoch 2/100\n",
            "16/16 [==============================] - 0s 1ms/step - loss: 25.6679\n",
            "Epoch 3/100\n",
            "16/16 [==============================] - 0s 1ms/step - loss: 25.4686\n",
            "Epoch 4/100\n",
            "16/16 [==============================] - 0s 1ms/step - loss: 25.5683\n",
            "Epoch 5/100\n",
            "16/16 [==============================] - 0s 1ms/step - loss: 25.6467\n",
            "Epoch 6/100\n",
            "16/16 [==============================] - 0s 1ms/step - loss: 25.4734\n",
            "Epoch 7/100\n",
            "16/16 [==============================] - 0s 2ms/step - loss: 25.3341\n",
            "Epoch 8/100\n",
            "16/16 [==============================] - 0s 1ms/step - loss: 25.5998\n",
            "Epoch 9/100\n",
            "16/16 [==============================] - 0s 1ms/step - loss: 25.4652\n",
            "Epoch 10/100\n",
            "16/16 [==============================] - 0s 1ms/step - loss: 25.2783\n",
            "Epoch 11/100\n",
            "16/16 [==============================] - 0s 2ms/step - loss: 25.5234\n",
            "Epoch 12/100\n",
            "16/16 [==============================] - 0s 1ms/step - loss: 25.5758\n",
            "Epoch 13/100\n",
            "16/16 [==============================] - 0s 1ms/step - loss: 25.5686\n",
            "Epoch 14/100\n",
            "16/16 [==============================] - 0s 1ms/step - loss: 25.9101\n",
            "Epoch 15/100\n",
            "16/16 [==============================] - 0s 1ms/step - loss: 25.7033\n",
            "Epoch 16/100\n",
            "16/16 [==============================] - 0s 1ms/step - loss: 25.3570\n",
            "Epoch 17/100\n",
            "16/16 [==============================] - 0s 1ms/step - loss: 25.6964\n",
            "Epoch 18/100\n",
            "16/16 [==============================] - 0s 1ms/step - loss: 25.3406\n",
            "Epoch 19/100\n",
            "16/16 [==============================] - 0s 1ms/step - loss: 25.2684\n",
            "Epoch 20/100\n",
            "16/16 [==============================] - 0s 1ms/step - loss: 25.5877\n",
            "Epoch 21/100\n",
            "16/16 [==============================] - 0s 1ms/step - loss: 25.7290\n",
            "Epoch 22/100\n",
            "16/16 [==============================] - 0s 1ms/step - loss: 25.5385\n",
            "Epoch 23/100\n",
            "16/16 [==============================] - 0s 1ms/step - loss: 25.1264\n",
            "Epoch 24/100\n",
            "16/16 [==============================] - 0s 1ms/step - loss: 25.7463\n",
            "Epoch 25/100\n",
            "16/16 [==============================] - 0s 1ms/step - loss: 25.7248\n",
            "Epoch 26/100\n",
            "16/16 [==============================] - 0s 1ms/step - loss: 25.2007\n",
            "Epoch 27/100\n",
            "16/16 [==============================] - 0s 1ms/step - loss: 25.5681\n",
            "Epoch 28/100\n",
            "16/16 [==============================] - 0s 1ms/step - loss: 25.8783\n",
            "Epoch 29/100\n",
            "16/16 [==============================] - 0s 1ms/step - loss: 25.9119\n",
            "Epoch 30/100\n",
            "16/16 [==============================] - 0s 1ms/step - loss: 25.3491\n",
            "Epoch 31/100\n",
            "16/16 [==============================] - 0s 2ms/step - loss: 25.5911\n",
            "Epoch 32/100\n",
            "16/16 [==============================] - 0s 1ms/step - loss: 25.5991\n",
            "Epoch 33/100\n",
            "16/16 [==============================] - 0s 2ms/step - loss: 25.6566\n",
            "Epoch 34/100\n",
            "16/16 [==============================] - 0s 1ms/step - loss: 25.3209\n",
            "Epoch 35/100\n",
            "16/16 [==============================] - 0s 1ms/step - loss: 25.8688\n",
            "Epoch 36/100\n",
            "16/16 [==============================] - 0s 1ms/step - loss: 25.8711\n",
            "Epoch 37/100\n",
            "16/16 [==============================] - 0s 1ms/step - loss: 25.7528\n",
            "Epoch 38/100\n",
            "16/16 [==============================] - 0s 1ms/step - loss: 25.0579\n",
            "Epoch 39/100\n",
            "16/16 [==============================] - 0s 1ms/step - loss: 26.0153\n",
            "Epoch 40/100\n",
            "16/16 [==============================] - 0s 1ms/step - loss: 25.3445\n",
            "Epoch 41/100\n",
            "16/16 [==============================] - 0s 1ms/step - loss: 26.0360\n",
            "Epoch 42/100\n",
            "16/16 [==============================] - 0s 1ms/step - loss: 25.6789\n",
            "Epoch 43/100\n",
            "16/16 [==============================] - 0s 2ms/step - loss: 25.1896\n",
            "Epoch 44/100\n",
            "16/16 [==============================] - 0s 1ms/step - loss: 25.2921\n",
            "Epoch 45/100\n",
            "16/16 [==============================] - 0s 1ms/step - loss: 25.3345\n",
            "Epoch 46/100\n",
            "16/16 [==============================] - 0s 1ms/step - loss: 25.1913\n",
            "Epoch 47/100\n",
            "16/16 [==============================] - 0s 1ms/step - loss: 25.8906\n",
            "Epoch 48/100\n",
            "16/16 [==============================] - 0s 1ms/step - loss: 25.5109\n",
            "Epoch 49/100\n",
            "16/16 [==============================] - 0s 1ms/step - loss: 25.9847\n",
            "Epoch 50/100\n",
            "16/16 [==============================] - 0s 1ms/step - loss: 25.4302\n",
            "Epoch 51/100\n",
            "16/16 [==============================] - 0s 1ms/step - loss: 25.4733\n",
            "Epoch 52/100\n",
            "16/16 [==============================] - 0s 1ms/step - loss: 25.5080\n",
            "Epoch 53/100\n",
            "16/16 [==============================] - 0s 1ms/step - loss: 25.6031\n",
            "Epoch 54/100\n",
            "16/16 [==============================] - 0s 1ms/step - loss: 25.6561\n",
            "Epoch 55/100\n",
            "16/16 [==============================] - 0s 1ms/step - loss: 25.4671\n",
            "Epoch 56/100\n",
            "16/16 [==============================] - 0s 1ms/step - loss: 25.9848\n",
            "Epoch 57/100\n",
            "16/16 [==============================] - 0s 2ms/step - loss: 25.2630\n",
            "Epoch 58/100\n",
            "16/16 [==============================] - 0s 1ms/step - loss: 24.8839\n",
            "Epoch 59/100\n",
            "16/16 [==============================] - 0s 1ms/step - loss: 25.1960\n",
            "Epoch 60/100\n",
            "16/16 [==============================] - 0s 1ms/step - loss: 25.3350\n",
            "Epoch 61/100\n",
            "16/16 [==============================] - 0s 1ms/step - loss: 25.6088\n",
            "Epoch 62/100\n",
            "16/16 [==============================] - 0s 1ms/step - loss: 25.2149\n",
            "Epoch 63/100\n",
            "16/16 [==============================] - 0s 1ms/step - loss: 25.4266\n",
            "Epoch 64/100\n",
            "16/16 [==============================] - 0s 1ms/step - loss: 25.3218\n",
            "Epoch 65/100\n",
            "16/16 [==============================] - 0s 2ms/step - loss: 25.5410\n",
            "Epoch 66/100\n",
            "16/16 [==============================] - 0s 1ms/step - loss: 24.9551\n",
            "Epoch 67/100\n",
            "16/16 [==============================] - 0s 1ms/step - loss: 25.0343\n",
            "Epoch 68/100\n",
            "16/16 [==============================] - 0s 1ms/step - loss: 25.4349\n",
            "Epoch 69/100\n",
            "16/16 [==============================] - 0s 1ms/step - loss: 25.4836\n",
            "Epoch 70/100\n",
            "16/16 [==============================] - 0s 1ms/step - loss: 25.5734\n",
            "Epoch 71/100\n",
            "16/16 [==============================] - 0s 1ms/step - loss: 25.6942\n",
            "Epoch 72/100\n",
            "16/16 [==============================] - 0s 1ms/step - loss: 25.3334\n",
            "Epoch 73/100\n",
            "16/16 [==============================] - 0s 1ms/step - loss: 25.1567\n",
            "Epoch 74/100\n",
            "16/16 [==============================] - 0s 1ms/step - loss: 25.0239\n",
            "Epoch 75/100\n",
            "16/16 [==============================] - 0s 1ms/step - loss: 25.5617\n",
            "Epoch 76/100\n",
            "16/16 [==============================] - 0s 1ms/step - loss: 24.9501\n",
            "Epoch 77/100\n",
            "16/16 [==============================] - 0s 1ms/step - loss: 25.5774\n",
            "Epoch 78/100\n",
            "16/16 [==============================] - 0s 1ms/step - loss: 25.4805\n",
            "Epoch 79/100\n",
            "16/16 [==============================] - 0s 1ms/step - loss: 25.0324\n",
            "Epoch 80/100\n",
            "16/16 [==============================] - 0s 1ms/step - loss: 25.3687\n",
            "Epoch 81/100\n",
            "16/16 [==============================] - 0s 1ms/step - loss: 24.9465\n",
            "Epoch 82/100\n",
            "16/16 [==============================] - 0s 1ms/step - loss: 25.8188\n",
            "Epoch 83/100\n",
            "16/16 [==============================] - 0s 1ms/step - loss: 24.8974\n",
            "Epoch 84/100\n",
            "16/16 [==============================] - 0s 1ms/step - loss: 25.2722\n",
            "Epoch 85/100\n",
            "16/16 [==============================] - 0s 2ms/step - loss: 25.1379\n",
            "Epoch 86/100\n",
            "16/16 [==============================] - 0s 1ms/step - loss: 25.2967\n",
            "Epoch 87/100\n",
            "16/16 [==============================] - 0s 1ms/step - loss: 25.5181\n",
            "Epoch 88/100\n",
            "16/16 [==============================] - 0s 1ms/step - loss: 25.0471\n",
            "Epoch 89/100\n",
            "16/16 [==============================] - 0s 1ms/step - loss: 25.1865\n",
            "Epoch 90/100\n",
            "16/16 [==============================] - 0s 1ms/step - loss: 25.1893\n",
            "Epoch 91/100\n",
            "16/16 [==============================] - 0s 2ms/step - loss: 25.8591\n",
            "Epoch 92/100\n",
            "16/16 [==============================] - 0s 1ms/step - loss: 25.1135\n",
            "Epoch 93/100\n",
            "16/16 [==============================] - 0s 1ms/step - loss: 25.1702\n",
            "Epoch 94/100\n",
            "16/16 [==============================] - 0s 1ms/step - loss: 24.9963\n",
            "Epoch 95/100\n",
            "16/16 [==============================] - 0s 1ms/step - loss: 25.4049\n",
            "Epoch 96/100\n",
            "16/16 [==============================] - 0s 1ms/step - loss: 25.2005\n",
            "Epoch 97/100\n",
            "16/16 [==============================] - 0s 1ms/step - loss: 25.6601\n",
            "Epoch 98/100\n",
            "16/16 [==============================] - 0s 1ms/step - loss: 25.5229\n",
            "Epoch 99/100\n",
            "16/16 [==============================] - 0s 1ms/step - loss: 25.4768\n",
            "Epoch 100/100\n",
            "16/16 [==============================] - 0s 1ms/step - loss: 25.1784\n"
          ],
          "name": "stdout"
        },
        {
          "output_type": "execute_result",
          "data": {
            "text/plain": [
              "<tensorflow.python.keras.callbacks.History at 0x7f2ec8ec4438>"
            ]
          },
          "metadata": {
            "tags": []
          },
          "execution_count": 7
        }
      ]
    },
    {
      "cell_type": "code",
      "metadata": {
        "id": "XX0R9ooa3p2o",
        "colab_type": "code",
        "colab": {
          "base_uri": "https://localhost:8080/",
          "height": 105
        },
        "outputId": "66913e86-227f-4478-e017-f5b6516f7b70"
      },
      "source": [
        "#모델을 통해 예측한다\n",
        "model.predict(독립[0:5])"
      ],
      "execution_count": null,
      "outputs": [
        {
          "output_type": "execute_result",
          "data": {
            "text/plain": [
              "array([[29.529787],\n",
              "       [24.593733],\n",
              "       [30.6136  ],\n",
              "       [29.76873 ],\n",
              "       [29.208124]], dtype=float32)"
            ]
          },
          "metadata": {
            "tags": []
          },
          "execution_count": 8
        }
      ]
    },
    {
      "cell_type": "code",
      "metadata": {
        "id": "B339ddp-4OOe",
        "colab_type": "code",
        "colab": {
          "base_uri": "https://localhost:8080/",
          "height": 195
        },
        "outputId": "928c4df0-7ba6-4c0c-dced-37ea03b5446b"
      },
      "source": [
        "종속[0:5]"
      ],
      "execution_count": null,
      "outputs": [
        {
          "output_type": "execute_result",
          "data": {
            "text/html": [
              "<div>\n",
              "<style scoped>\n",
              "    .dataframe tbody tr th:only-of-type {\n",
              "        vertical-align: middle;\n",
              "    }\n",
              "\n",
              "    .dataframe tbody tr th {\n",
              "        vertical-align: top;\n",
              "    }\n",
              "\n",
              "    .dataframe thead th {\n",
              "        text-align: right;\n",
              "    }\n",
              "</style>\n",
              "<table border=\"1\" class=\"dataframe\">\n",
              "  <thead>\n",
              "    <tr style=\"text-align: right;\">\n",
              "      <th></th>\n",
              "      <th>medv</th>\n",
              "    </tr>\n",
              "  </thead>\n",
              "  <tbody>\n",
              "    <tr>\n",
              "      <th>0</th>\n",
              "      <td>24.0</td>\n",
              "    </tr>\n",
              "    <tr>\n",
              "      <th>1</th>\n",
              "      <td>21.6</td>\n",
              "    </tr>\n",
              "    <tr>\n",
              "      <th>2</th>\n",
              "      <td>34.7</td>\n",
              "    </tr>\n",
              "    <tr>\n",
              "      <th>3</th>\n",
              "      <td>33.4</td>\n",
              "    </tr>\n",
              "    <tr>\n",
              "      <th>4</th>\n",
              "      <td>36.2</td>\n",
              "    </tr>\n",
              "  </tbody>\n",
              "</table>\n",
              "</div>"
            ],
            "text/plain": [
              "   medv\n",
              "0  24.0\n",
              "1  21.6\n",
              "2  34.7\n",
              "3  33.4\n",
              "4  36.2"
            ]
          },
          "metadata": {
            "tags": []
          },
          "execution_count": 9
        }
      ]
    },
    {
      "cell_type": "code",
      "metadata": {
        "id": "wiul658O4Pze",
        "colab_type": "code",
        "colab": {
          "base_uri": "https://localhost:8080/",
          "height": 246
        },
        "outputId": "d0412b42-2f58-4f26-ee9e-440906e1d80b"
      },
      "source": [
        "#모델의 수식 확인\n",
        "model.get_weights()"
      ],
      "execution_count": null,
      "outputs": [
        {
          "output_type": "execute_result",
          "data": {
            "text/plain": [
              "[array([[-8.9173719e-02],\n",
              "        [ 6.4670287e-02],\n",
              "        [-5.6580462e-02],\n",
              "        [ 3.2794032e+00],\n",
              "        [ 2.0827460e+00],\n",
              "        [ 4.4486938e+00],\n",
              "        [ 3.9944556e-03],\n",
              "        [-9.6427244e-01],\n",
              "        [ 1.5993759e-01],\n",
              "        [-9.4626267e-03],\n",
              "        [-1.2450346e-01],\n",
              "        [ 1.4773291e-02],\n",
              "        [-5.3860843e-01]], dtype=float32), array([3.1744008], dtype=float32)]"
            ]
          },
          "metadata": {
            "tags": []
          },
          "execution_count": 10
        }
      ]
    },
    {
      "cell_type": "code",
      "metadata": {
        "id": "2AU68lXJ4cIb",
        "colab_type": "code",
        "colab": {}
      },
      "source": [
        ""
      ],
      "execution_count": null,
      "outputs": []
    }
  ]
}