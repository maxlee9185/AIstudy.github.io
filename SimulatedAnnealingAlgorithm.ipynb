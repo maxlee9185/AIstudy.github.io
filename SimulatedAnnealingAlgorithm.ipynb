{
  "nbformat": 4,
  "nbformat_minor": 0,
  "metadata": {
    "colab": {
      "name": "SimulatedAnnealingAlgorithm",
      "provenance": [],
      "include_colab_link": true
    },
    "kernelspec": {
      "name": "python3",
      "display_name": "Python 3"
    }
  },
  "cells": [
    {
      "cell_type": "markdown",
      "metadata": {
        "id": "view-in-github",
        "colab_type": "text"
      },
      "source": [
        "<a href=\"https://colab.research.google.com/github/maxlee9185/AIstudy.github.io/blob/master/SimulatedAnnealingAlgorithm.ipynb\" target=\"_parent\"><img src=\"https://colab.research.google.com/assets/colab-badge.svg\" alt=\"Open In Colab\"/></a>"
      ]
    },
    {
      "cell_type": "code",
      "metadata": {
        "id": "crfuM66dmIc1",
        "colab_type": "code",
        "colab": {
          "base_uri": "https://localhost:8080/",
          "height": 557
        },
        "outputId": "3026ee6e-a5f5-4416-9876-e700c6d334ba"
      },
      "source": [
        "from random import randint\n",
        "\n",
        "def segment(text, segs):\n",
        "    words = []\n",
        "    last = 0\n",
        "    for i in range(len(segs)):\n",
        "        if segs[i] == '1':\n",
        "            words.append(text[last:i+1])\n",
        "            last = i+1\n",
        "    words.append(text[last:])\n",
        "    return words\n",
        "\n",
        "def evaluate(text, segs):\n",
        "    words = segment(text, segs)\n",
        "    text_size = len(words)\n",
        "    lexicon_size = sum(len(word) + 1 for word in set(words))\n",
        "    return text_size + lexicon_size\n",
        "\n",
        "def flip(segs, pos):\n",
        "    return segs[:pos] + str(1-int(segs[pos])) + segs[pos+1:]\n",
        "\n",
        "def flip_n(segs, n):\n",
        "    for i in range(n):\n",
        "        segs = flip(segs, randint(0, len(segs)-1))\n",
        "    return segs\n",
        "  \n",
        "import random\n",
        "def anneal(text, segs, iterations, cooling_rate):\n",
        "    temperature = float(len(segs))\n",
        "    e=2.7182\n",
        "    n=1\n",
        "    while temperature > 0.5:\n",
        "        best_segs, best = segs, evaluate(text, segs)\n",
        "        for i in range(iterations):\n",
        "            guess = flip_n(segs, round(temperature)) #처음에는 많이 바꿨다 점점 줄이려고 함\n",
        "            score = evaluate(text, guess)\n",
        "            if score < best:\n",
        "                best, best_segs = score, guess\n",
        "            else:\n",
        "              prob=random.random()\n",
        "              if prob <e**((best-score)/temperature) :\n",
        "                best,best_segs=score,guess\n",
        "        score, segs = best, best_segs\n",
        "        temperature = temperature / cooling_rate\n",
        "        print(evaluate(text, segs), segment(text, segs))\n",
        "        n+=1\n",
        "    print('total iteration',n*5000)\n",
        "    return segs\n",
        "  \n",
        "text = \"doyouseethekittyseethedoggydoyoulikethekittylikethedoggy\"\n",
        "seg1 = \"0000000000000001000000000010000000000000000100000000000\"\n",
        "anneal(text, seg1, 5000, 1.2) #5000번 반복해라"
      ],
      "execution_count": null,
      "outputs": [
        {
          "output_type": "stream",
          "text": [
            "94 ['d', 'o', 'you', 's', 'eethek', 'ittyseethedo', 'g', 'gydo', 'y', 'o', 'ul', 'ik', 'e', 't', 'h', 'e', 'kit', 't', 'y', 'li', 'ket', 'h', 'e', 'dog', 'gy']\n",
            "93 ['d', 'oy', 'ou', 'se', 'eth', 'e', 'kit', 'tys', 'e', 'eth', 'ed', 'oggyd', 'o', 'youlik', 'et', 'he', 'ki', 't', 't', 'y', 'lik', 'e', 't', 'he', 'd', 'og', 'gy']\n",
            "89 ['doyo', 'u', 'seethe', 'kit', 'tyse', 'e', 'thed', 'og', 'gyd', 'oyoul', 'iketh', 'eki', 't', 'ty', 'liketh', 'e', 'd', 'og', 'gy']\n",
            "94 ['doyouseet', 'h', 'e', 'kit', 't', 'ys', 'e', 'ethed', 'og', 'gydo', 'yo', 'ul', 'i', 'ke', 'theki', 'tty', 'liket', 'h', 'ed', 'o', 'ggy']\n",
            "98 ['doy', 'ou', 'seet', 'h', 'ekit', 'ty', 's', 'ee', 'thed', 'o', 'ggydoyo', 'u', 'like', 't', 'he', 'ki', 't', 'tyli', 'ket', 'h', 'edo', 'g', 'g', 'y']\n",
            "100 ['doy', 'o', 'u', 'seet', 'hekit', 't', 'ys', 'e', 'et', 'hedo', 'gg', 'y', 'do', 'youlike', 'the', 'ki', 't', 'tyl', 'i', 'ket', 'h', 'edog', 'g', 'y']\n",
            "94 ['doyo', 'useet', 'heki', 'tty', 's', 'eethe', 'do', 'gg', 'y', 'do', 'yo', 'ulike', 'the', 'ki', 'ttyl', 'i', 'k', 'et', 'h', 'e', 'do', 'g', 'g', 'y']\n",
            "102 ['doyo', 'useet', 'h', 'eki', 'tt', 'y', 's', 'e', 'ethe', 'dogg', 'yd', 'o', 'yo', 'ul', 'i', 'ke', 'th', 'e', 'ki', 'ttyli', 'k', 'et', 'hedo', 'gg', 'y']\n",
            "98 ['doyo', 'useet', 'h', 'e', 'k', 'i', 'tty', 's', 'e', 'ethed', 'oggyd', 'o', 'yo', 'ul', 'i', 'k', 'e', 'the', 'ki', 't', 'tyli', 'k', 'et', 'hedo', 'gg', 'y']\n",
            "90 ['doyouseet', 'h', 'e', 'k', 'i', 'ttys', 'e', 'ethed', 'oggydo', 'yo', 'ul', 'i', 'k', 'e', 'th', 'e', 'ki', 'ttyli', 'ket', 'h', 'edo', 'gg', 'y']\n",
            "89 ['doyouseethe', 'ki', 'ttys', 'e', 'ethed', 'o', 'ggydo', 'y', 'o', 'ul', 'ik', 'ethe', 'ki', 'tt', 'yli', 'ket', 'h', 'edo', 'gg', 'y']\n",
            "87 ['doyouseethe', 'ki', 'ttys', 'e', 'ethe', 'd', 'oggydo', 'y', 'o', 'ul', 'ik', 'ethe', 'kitt', 'yli', 'k', 'eth', 'edo', 'gg', 'y']\n",
            "88 ['doyouseethe', 'k', 'i', 'ttys', 'e', 'ethe', 'doggydo', 'y', 'o', 'ul', 'ik', 'e', 'thekitt', 'yl', 'i', 'k', 'e', 'th', 'edo', 'gg', 'y']\n",
            "94 ['doyouseethe', 'k', 'i', 'ttys', 'eethe', 'do', 'ggydo', 'y', 'o', 'ul', 'ik', 'e', 'thek', 'itt', 'yl', 'i', 'ke', 'th', 'ed', 'o', 'gg', 'y']\n",
            "96 ['doyouseethe', 'k', 'i', 'ttys', 'e', 'ethe', 'd', 'o', 'ggydo', 'y', 'o', 'ul', 'ike', 'thek', 'it', 't', 'yl', 'i', 'ke', 'th', 'ed', 'o', 'gg', 'y']\n",
            "90 ['doyous', 'eethe', 'k', 'i', 'ttys', 'eethe', 'd', 'o', 'ggydo', 'y', 'o', 'ul', 'ik', 'e', 'thek', 'it', 't', 'yl', 'i', 'keth', 'ed', 'o', 'gg', 'y']\n",
            "90 ['doyous', 'eethe', 'k', 'ittys', 'eethe', 'd', 'o', 'ggydo', 'yo', 'ul', 'ike', 'thek', 'it', 't', 'yl', 'i', 'keth', 'ed', 'o', 'gg', 'y']\n",
            "86 ['doyous', 'eethe', 'k', 'ittys', 'eethe', 'd', 'o', 'ggydoyo', 'ul', 'ikethek', 'it', 't', 'yl', 'i', 'keth', 'ed', 'o', 'gg', 'y']\n",
            "83 ['doyous', 'eethe', 'k', 'it', 'tys', 'eethe', 'd', 'o', 'ggydoyo', 'ul', 'ikethek', 'it', 't', 'yl', 'iketh', 'ed', 'o', 'gg', 'y']\n",
            "83 ['doyouseethe', 'k', 'it', 'tys', 'eethe', 'd', 'o', 'ggydoyo', 'ul', 'iketh', 'ek', 'it', 't', 'yl', 'iketh', 'ed', 'o', 'gg', 'y']\n",
            "81 ['doyouseethe', 'k', 'it', 'tys', 'eethe', 'd', 'o', 'ggydoyo', 'ul', 'iketh', 'ek', 'it', 'tyl', 'iketh', 'ed', 'o', 'gg', 'y']\n",
            "77 ['doyous', 'eethe', 'k', 'it', 'tys', 'eethe', 'd', 'o', 'ggydoyo', 'ul', 'iketh', 'ek', 'it', 'tyl', 'iketh', 'ed', 'o', 'gg', 'y']\n",
            "75 ['doyous', 'eethe', 'k', 'it', 'tys', 'eethe', 'd', 'o', 'ggydoyoul', 'iketh', 'ek', 'it', 'tyl', 'iketh', 'ed', 'o', 'gg', 'y']\n",
            "75 ['doyous', 'eethe', 'k', 'it', 'tys', 'eethe', 'd', 'o', 'ggydoyoul', 'iketh', 'ek', 'it', 'tyl', 'iketh', 'e', 'd', 'o', 'gg', 'y']\n",
            "73 ['doyous', 'eethe', 'k', 'it', 'tys', 'eethe', 'd', 'o', 'ggydoyoul', 'iketh', 'ek', 'it', 'tyl', 'iketh', 'e', 'd', 'o', 'ggy']\n",
            "71 ['doyous', 'eethe', 'k', 'it', 'tys', 'eethe', 'd', 'o', 'ggy', 'doyoul', 'iketh', 'ek', 'it', 'tyl', 'iketh', 'e', 'd', 'o', 'ggy']\n",
            "total iteration 135000\n"
          ],
          "name": "stdout"
        },
        {
          "output_type": "execute_result",
          "data": {
            "text/plain": [
              "'0000010000110100100001110010000010000101010010000111100'"
            ]
          },
          "metadata": {
            "tags": []
          },
          "execution_count": 7
        }
      ]
    },
    {
      "cell_type": "code",
      "metadata": {
        "id": "fwCSz_smmcTF",
        "colab_type": "code",
        "colab": {}
      },
      "source": [
        ""
      ],
      "execution_count": null,
      "outputs": []
    }
  ]
}