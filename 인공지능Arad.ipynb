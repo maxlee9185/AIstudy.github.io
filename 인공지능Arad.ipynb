{
  "nbformat": 4,
  "nbformat_minor": 0,
  "metadata": {
    "colab": {
      "name": "인공지능Arad.ipynb",
      "provenance": [],
      "include_colab_link": true
    },
    "kernelspec": {
      "name": "python3",
      "display_name": "Python 3"
    }
  },
  "cells": [
    {
      "cell_type": "markdown",
      "metadata": {
        "id": "view-in-github",
        "colab_type": "text"
      },
      "source": [
        "<a href=\"https://colab.research.google.com/github/maxlee9185/AIstudy.github.io/blob/master/%EC%9D%B8%EA%B3%B5%EC%A7%80%EB%8A%A5Arad.ipynb\" target=\"_parent\"><img src=\"https://colab.research.google.com/assets/colab-badge.svg\" alt=\"Open In Colab\"/></a>"
      ]
    },
    {
      "cell_type": "code",
      "metadata": {
        "id": "WVj-ACfKKwxS",
        "colab_type": "code",
        "colab": {
          "base_uri": "https://localhost:8080/",
          "height": 54
        },
        "outputId": "72bc8639-845c-4d24-a2a8-ad3422d49f11"
      },
      "source": [
        "class Node:\n",
        "  def __init__(self,s,p,c,d):\n",
        "    self.state= s\n",
        "    self.parent=p\n",
        "    self.cost=c\n",
        "    self.depth=d\n",
        "    \n",
        "  def __str__(self):\n",
        "    return \"S: \"+self.state+', depth= '+str(self.depth)+', cost= '+str(self.cost)\n",
        "  \n",
        "node=Node('Arad',None,0,0)\n",
        "print(node)\n",
        "cNode=Node(\"Sibiu\",node,140,1)\n",
        "print(cNode)\n",
        "  \n",
        "graph={\n",
        "'Arad': [('Zerind',75), ('Timisoara', 118), ('Sibiu', 140) ],\n",
        "'Sibiu': [('Fagaras', 99), ('RV', 80), ('Oradea',151), ('Arad', 140)],\n",
        "'RV':[('Sibiu',80), ('Pitesti',97), ('Craiova', 146)],\n",
        "'Pitesti':[('RV',97),('Craiova',138),('Bucharest',101)],\n",
        "'Bucharest':[('Pitesti',101),('Giurgiu',90),('Urziceni',85),('Fagaras',211)],\n",
        "'Giurgiu':[('Bucharest',90)],\n",
        "'Timisoara':[('Arad',118),('Lugoj',111)],\n",
        "'Lugoj':[('Timisoara',111),('Mehadia',75)],\n",
        "'Mehadia':[('Lugoj',70),('Dobreta',75)],\n",
        "'Dobreta':[('Mehadia',75),('Craiova',120)],\n",
        "'Craiova':[('Dobreta',120),('RV',146),('Pitesti',138)],\n",
        "'Zerind':[('Arad',75),('Oradea',71)],\n",
        "'Oradea':[('Zerind',71),('Sibiu',151)],\n",
        "'Fagaras':[('Sibiu',99),('Bucharest',211)],\n",
        "'Urziceni':[('Bucharest',85),('Hirsova',98),('Vaslui',142)],\n",
        "'Hirsova':[('Urziceni',98),('Eforie',86)],\n",
        "'Vaslui':[('Urziceni',142),('Iasi',92)],\n",
        "'Iasi':[('Vaslui',92),('Neamt',87)],\n",
        "'Neamt':[('Iasi',87)],\n",
        "'Eforie':[('Hirsova',86)]\n",
        "}\n"
      ],
      "execution_count": null,
      "outputs": [
        {
          "output_type": "stream",
          "text": [
            "S: Arad, depth= 0, cost= 0\n",
            "S: Sibiu, depth= 1, cost= 140\n"
          ],
          "name": "stdout"
        }
      ]
    },
    {
      "cell_type": "code",
      "metadata": {
        "id": "QTFqLAXtLxLC",
        "colab_type": "code",
        "colab": {}
      },
      "source": [
        "def BFS(graph,root):\n",
        "  visited=[]\n",
        "  queue=[]\n",
        "  keyList=list(graph.keys())\n",
        "  for site in keyList:\n",
        "    queue.append(site)\n",
        "    while len(queue) !=0:\n",
        "      site2=queue.pop(0)\n",
        "      if site2 not in visited:\n",
        "        visited.append(site2)\n",
        "      for child in graph[site2]:\n",
        "        if child[0] not in visited:\n",
        "          queue.append(child[0])\n",
        "    print(visited)\n",
        "    return visited"
      ],
      "execution_count": null,
      "outputs": []
    }
  ]
}