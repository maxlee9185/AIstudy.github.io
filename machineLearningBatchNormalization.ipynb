{
  "nbformat": 4,
  "nbformat_minor": 0,
  "metadata": {
    "colab": {
      "name": "machineLearningBatchNormalization.ipynb",
      "provenance": [],
      "authorship_tag": "ABX9TyPD/yQx67SLgNog2s47nJ53",
      "include_colab_link": true
    },
    "kernelspec": {
      "name": "python3",
      "display_name": "Python 3"
    }
  },
  "cells": [
    {
      "cell_type": "markdown",
      "metadata": {
        "id": "view-in-github",
        "colab_type": "text"
      },
      "source": [
        "<a href=\"https://colab.research.google.com/github/maxlee9185/AIstudy.github.io/blob/master/machineLearningBatchNormalization.ipynb\" target=\"_parent\"><img src=\"https://colab.research.google.com/assets/colab-badge.svg\" alt=\"Open In Colab\"/></a>"
      ]
    },
    {
      "cell_type": "code",
      "metadata": {
        "id": "bA2_VvEDJxeb",
        "colab_type": "code",
        "colab": {
          "base_uri": "https://localhost:8080/",
          "height": 34
        },
        "outputId": "06547e1f-dd87-46b3-d2d9-6e37f43987d3"
      },
      "source": [
        "# 라이브러리 사용\n",
        "import tensorflow as tf\n",
        "import pandas as pd\n",
        " # 1.과거의 데이터를 준비합니다.\n",
        "파일경로 = 'https://raw.githubusercontent.com/blackdew/tensorflow1/master/csv/boston.csv'\n",
        "보스턴 = pd.read_csv(파일경로)\n",
        "\n",
        "# 종속변수, 독립변수\n",
        "독립 = 보스턴[['crim', 'zn', 'indus', 'chas', 'nox', \n",
        "            'rm', 'age', 'dis', 'rad', 'tax',\n",
        "            'ptratio', 'b', 'lstat']]\n",
        "종속 = 보스턴[['medv']]\n",
        "print(독립.shape, 종속.shape)\n",
        " \n",
        "\n",
        "# BatchNormalization을 활용하여 모델의 구조를 만듭니다\n",
        "X = tf.keras.layers.Input(shape=[13])\n",
        "\n",
        "H = tf.keras.layers.Dense(8)(X)\n",
        "H = tf.keras.layers.BatchNormalization()(H)\n",
        "H = tf.keras.layers.Activation('swish')(H)\n",
        "\n",
        "\n",
        "H = tf.keras.layers.Dense(8)(H)\n",
        "H = tf.keras.layers.BatchNormalization()(H)\n",
        "H = tf.keras.layers.Activation('swish')(H)\n",
        "\n",
        "H = tf.keras.layers.Dense(8)(H)\n",
        "H = tf.keras.layers.BatchNormalization()(H)\n",
        "H = tf.keras.layers.Activation('swish')(H)\n",
        "\n",
        "Y = tf.keras.layers.Dense(1)(H)\n",
        "model = tf.keras.models.Model(X, Y)\n",
        "model.compile(loss='mse')\n",
        " "
      ],
      "execution_count": 7,
      "outputs": [
        {
          "output_type": "stream",
          "text": [
            "(506, 13) (506, 1)\n"
          ],
          "name": "stdout"
        }
      ]
    },
    {
      "cell_type": "code",
      "metadata": {
        "id": "9m1IzKlmLDLW",
        "colab_type": "code",
        "colab": {}
      },
      "source": [
        "model.fit(독립,종속,epochs=1000, verbose=0)\n",
        "model.fit(독립,종속, epochs=50)"
      ],
      "execution_count": null,
      "outputs": []
    },
    {
      "cell_type": "code",
      "metadata": {
        "id": "wzuLGJwsMriK",
        "colab_type": "code",
        "colab": {
          "base_uri": "https://localhost:8080/",
          "height": 210
        },
        "outputId": "82db0358-1e21-499a-b14a-c03e87e60179"
      },
      "source": [
        "print(model.predict(독립[:5]))\n",
        "print(종속[:5])"
      ],
      "execution_count": 12,
      "outputs": [
        {
          "output_type": "stream",
          "text": [
            "[[29.128458]\n",
            " [26.707361]\n",
            " [37.718018]\n",
            " [36.4973  ]\n",
            " [37.07297 ]]\n",
            "   medv\n",
            "0  24.0\n",
            "1  21.6\n",
            "2  34.7\n",
            "3  33.4\n",
            "4  36.2\n"
          ],
          "name": "stdout"
        }
      ]
    },
    {
      "cell_type": "code",
      "metadata": {
        "id": "7H2aNWHZOHV3",
        "colab_type": "code",
        "colab": {}
      },
      "source": [
        ""
      ],
      "execution_count": null,
      "outputs": []
    }
  ]
}